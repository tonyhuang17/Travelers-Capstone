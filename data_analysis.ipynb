{
 "cells": [
  {
   "cell_type": "code",
   "execution_count": 1,
   "metadata": {},
   "outputs": [
    {
     "name": "stdout",
     "output_type": "stream",
     "text": [
      "[ 5.    5.5  12.   26.    6.7   6.9   1.    9.95 22.   27.   32.   20.\n",
      "  9.    7.   15.    9.5   8.    6.    9.75 10.    8.75 13.    6.5   4.75\n",
      " 11.    4.    4.5   3.5   7.5  18.   14.    8.5  19.   25.   28.   36.\n",
      " 17.5  24.   29.5  33.   19.5  39.   38.5  37.   22.25 21.   17.   16.5\n",
      " 28.5  27.3  34.5  23.   34.   18.9  18.5  15.4  20.5  43.   27.5  26.5\n",
      " 25.5  65.   45.   43.5  22.5  32.5  36.5  39.5  40.   23.5  29.   77.\n",
      " 44.   75.   42.   30.   38.   16.   31.   35.   49.   50.   55.   52.\n",
      " 19.99 46.99 10.49 30.96 11.99 13.99  7.99 14.99 20.99 14.49  3.99 10.29\n",
      "  8.99  9.99 21.99  4.99 15.99 12.99 28.96 23.49  6.99 13.49 16.49 15.49\n",
      " 51.   11.49 10.99 11.29  8.29 20.49 17.99 22.99 27.49 14.79 18.29 25.99\n",
      " 29.99 12.49 18.49 16.99 18.99  9.49 26.99 17.29 18.79 24.49 15.79  4.79\n",
      "  4.49  6.49  5.99 56.49  1.99 60.    7.49  7.29  9.29  8.96  5.49 27.96\n",
      "  9.39 21.5   7.79 19.29  2.99 22.49 13.96 11.79  3.49 10.79 13.79  9.79\n",
      " 13.29]\n"
     ]
    }
   ],
   "source": [
    "import pandas as pd\n",
    "import numpy as np\n",
    "from sklearn.preprocessing import StandardScaler, OneHotEncoder\n",
    "from sklearn.neighbors import NearestNeighbors\n",
    "from sklearn.pipeline import Pipeline\n",
    "from sklearn.compose import ColumnTransformer\n",
    "import joblib\n",
    "\n",
    "df = pd.read_json(\"products.json\")  \n",
    "\n",
    "# Replace null values in \"rating\" with random integers from 1 to 5\n",
    "df[\"rating\"] = df[\"rating\"].apply(lambda x: np.random.randint(1, 6) if pd.isnull(x) else int(x))\n",
    "\n",
    "# Convert \"price\" to numeric, forcing errors to NaN \n",
    "df[\"price\"] = pd.to_numeric(df[\"price\"], errors=\"coerce\")\n",
    "\n",
    "# Replace NaN values in \"price\" with the median price of the same category and brand\n",
    "df[\"price\"] = df.apply(\n",
    "    lambda row: df[\n",
    "        (df[\"category\"] == row[\"category\"]) & \n",
    "        (df[\"brand\"] == row[\"brand\"]) & \n",
    "        (df[\"price\"].notna()) & (df[\"price\"] > 0)  # Exclude NaN and 0 values\n",
    "    ][\"price\"].median() if pd.isna(row[\"price\"]) or row[\"price\"] == 0 else row[\"price\"], \n",
    "    axis=1\n",
    ")\n",
    "\n",
    "# If any prices are still NaN (no median available), replace them with a default value (e.g., 1.0) \n",
    "df[\"price\"] = df[\"price\"].fillna(1.0)\n",
    "\n",
    "# Ensure all prices are greater than zero \n",
    "df[\"price\"] = df[\"price\"].apply(lambda x: max(x, 1.0))\n",
    "\n",
    "\n",
    "# Clean the category column\n",
    "default_category = \"unknown\"\n",
    "\n",
    "df[\"category\"] = (\n",
    "    df[\"category\"]\n",
    "    .astype(str)\n",
    "    .str.strip()\n",
    "    .replace(\"\", np.nan)\n",
    "    .fillna(default_category)\n",
    ")\n",
    "\n",
    "# Drop the \"currency\" column\n",
    "df = df.drop(columns=[\"currency\"])\n",
    "\n",
    "df.head()\n",
    "# df.shape\n",
    "\n",
    "unique_ratings = df[\"price\"].unique()\n",
    "print(unique_ratings)\n",
    "df.to_json(\"updated_products.json\", orient=\"records\", indent=4)\n",
    "\n",
    "with open(\"updated_products.json\", \"r\", encoding=\"utf-8\") as file:\n",
    "    json_data = file.read().replace(\"\\\\/\", \"/\")\n",
    "\n",
    "with open(\"updated_products.json\", \"w\", encoding=\"utf-8\") as file:\n",
    "    file.write(json_data)"
   ]
  },
  {
   "cell_type": "code",
   "execution_count": 73,
   "metadata": {},
   "outputs": [],
   "source": [
    "features = [\"price\", \"rating\", \"category\", \"brand\"]\n",
    "df = df.dropna(subset=features)\n",
    "\n",
    "categorical_cols = [\"category\", \"brand\"]\n",
    "numerical_cols = [\"price\", \"rating\"]\n",
    "\n",
    "preprocessor = ColumnTransformer(\n",
    "    transformers=[\n",
    "        (\"num\", StandardScaler(), numerical_cols),\n",
    "        (\"cat\", OneHotEncoder(handle_unknown=\"ignore\"), categorical_cols),\n",
    "    ]\n",
    ")\n",
    "\n",
    "# Apply transformation\n",
    "X = preprocessor.fit_transform(df[features])\n",
    "\n"
   ]
  },
  {
   "cell_type": "code",
   "execution_count": 91,
   "metadata": {},
   "outputs": [
    {
     "data": {
      "text/plain": [
       "['nearest_neighbors_model.pkl']"
      ]
     },
     "execution_count": 91,
     "metadata": {},
     "output_type": "execute_result"
    }
   ],
   "source": [
    "# Train Nearest Neighbors model\n",
    "nn_model = NearestNeighbors(n_neighbors=5, metric=\"euclidean\")\n",
    "nn_model.fit(X)\n",
    "\n",
    "#Save model\n",
    "joblib.dump((nn_model, preprocessor, df), \"nearest_neighbors_model.pkl\")"
   ]
  },
  {
   "cell_type": "code",
   "execution_count": 89,
   "metadata": {},
   "outputs": [
    {
     "name": "stdout",
     "output_type": "stream",
     "text": [
      "[889, 890, 908, 901, 915]\n"
     ]
    }
   ],
   "source": [
    "def recommend_products(product_name, df, model, preprocessor, top_n=5):\n",
    "    \"\"\"\n",
    "    Given a product name, recommend similar products.\n",
    "    \"\"\"\n",
    "    # Get the index of the selected product\n",
    "    product_idx = df[df[\"name\"].str.lower() == product_name.lower()].index\n",
    "    if len(product_idx) == 0:\n",
    "        return \"Product not found!\"\n",
    "    \n",
    "    product_idx = product_idx[0]\n",
    "    \n",
    "    # Transform the product's features\n",
    "    product_features = preprocessor.transform(df.loc[[product_idx], features])\n",
    "    \n",
    "    # Find nearest neighbors\n",
    "    distances, indices = model.kneighbors(product_features, n_neighbors=top_n+1)\n",
    "    \n",
    "    # Retrieve recommended products (excluding the input product itself)\n",
    "    recommended_products = df.iloc[indices[0][1:]][\"id\"].tolist()  # Skip first as it's the same product\n",
    "    \n",
    "    return recommended_products\n",
    "\n",
    "# Example usage\n",
    "product_to_recommend = \"Pro Lip Cream Palette\"\n",
    "recommendations = recommend_products(product_to_recommend, df, nn_model, preprocessor)\n",
    "print(recommendations)\n"
   ]
  }
 ],
 "metadata": {
  "kernelspec": {
   "display_name": "Python 3",
   "language": "python",
   "name": "python3"
  },
  "language_info": {
   "codemirror_mode": {
    "name": "ipython",
    "version": 3
   },
   "file_extension": ".py",
   "mimetype": "text/x-python",
   "name": "python",
   "nbconvert_exporter": "python",
   "pygments_lexer": "ipython3",
   "version": "3.12.3"
  }
 },
 "nbformat": 4,
 "nbformat_minor": 2
}
